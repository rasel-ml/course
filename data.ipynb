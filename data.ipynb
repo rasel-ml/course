{
 "cells": [
  {
   "cell_type": "code",
   "execution_count": 15,
   "id": "71a9bc34-c946-42d5-a20d-720d64f4e1e3",
   "metadata": {},
   "outputs": [
    {
     "name": "stdin",
     "output_type": "stream",
     "text": [
      "Type a number: 97\n"
     ]
    },
    {
     "name": "stdout",
     "output_type": "stream",
     "text": [
      "97 is a prime number.\n"
     ]
    }
   ],
   "source": [
    "n=int(input(\"Type a number:\"))\n",
    "prime=True\n",
    "for i in range (2,n):\n",
    "    if n%i==0:\n",
    "        prime=False\n",
    "        break\n",
    "if prime:\n",
    "    print(n,\"is a prime number.\")\n",
    "else:\n",
    "    print(n,\"is not a prime number.\")"
   ]
  },
  {
   "cell_type": "code",
   "execution_count": null,
   "id": "8cd867ef-465d-4133-b7a6-47605265374c",
   "metadata": {},
   "outputs": [],
   "source": []
  },
  {
   "cell_type": "code",
   "execution_count": null,
   "id": "716a137d-20b9-4291-b42b-ad60d619c4fa",
   "metadata": {},
   "outputs": [],
   "source": []
  }
 ],
 "metadata": {
  "kernelspec": {
   "display_name": "Python 3 (ipykernel)",
   "language": "python",
   "name": "python3"
  },
  "language_info": {
   "codemirror_mode": {
    "name": "ipython",
    "version": 3
   },
   "file_extension": ".py",
   "mimetype": "text/x-python",
   "name": "python",
   "nbconvert_exporter": "python",
   "pygments_lexer": "ipython3",
   "version": "3.12.4"
  }
 },
 "nbformat": 4,
 "nbformat_minor": 5
}
